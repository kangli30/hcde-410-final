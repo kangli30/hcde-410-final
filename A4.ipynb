{
 "cells": [
  {
   "cell_type": "markdown",
   "id": "4d1f18a5-4d6d-423f-aaa4-afcec0b3386c",
   "metadata": {},
   "source": [
    "# Motivation and problem statement:"
   ]
  },
  {
   "cell_type": "markdown",
   "id": "3db7bfd3-873b-4398-97b9-8c1fa0426166",
   "metadata": {},
   "source": [
    "I am planning on analyzing the distrubution of Covid-19 vaccines in the United States. I am doing this analysis because the Covid-19 crisis is very recent and the distribution of vaccines is also recent. By analyzing this data, we can observe how the vaccines are distributed in the US compared to the population of the state. Also, we can observe how many people are taking the vaccines in the state level. It can also be interesting to see if political affiliation has correlation with vaccine administration by generalizing using the most recent voting data. There are many factors we can compare with vaccine distribution data. I hope to learn whether certain states are distributed more vaccines and whether people are more willing to take vaccines in certain states and its correlation with state demographics. Also, we can compare the number of vaccines distributed versus the number of people taking the vaccine to observe the supply and demand of the vaccines with the chosen dataset."
   ]
  },
  {
   "cell_type": "markdown",
   "id": "370e03e1-a12a-409f-8a37-dd6cce67d83c",
   "metadata": {},
   "source": [
    "# Data selected for analysis:"
   ]
  },
  {
   "cell_type": "markdown",
   "id": "5d314ae7-44af-4d19-95fd-9fb47c02ddc0",
   "metadata": {},
   "source": [
    "#### Dataset: \n",
    "Vaccine Data: https://dataverse.harvard.edu/dataset.xhtml?persistentId=doi:10.7910/DVN/SWKERK \n",
    "\n",
    "Population Data: https://worldpopulationreview.com/states \n",
    "\n",
    "I plan to use this dataset from Harvard Dataverse because this dataset has data from the beginning of the rolling out of vaccines up to April 26, 2021, which gives a good range of data as my focus is the early and middle phases of the vaccine distribution. Also, the population data is an estimate from the 2017 US Census, which gives a good estimate of population by state. The vaccine data is public domain and the population data is public data. The vaccine dataset contains data of the total doses administered, allocated, and shipped to the vaccination sites for each state. Also, the there is data for number of first and second doses for different the vaccines. This data is suitable for addressing my reasearch goal above because it contains the data necessary for analysis of people who are willing to be vaccinated and number of people who are fully vaccinated. Also, the population data allows me to find the proportional data. Furthermore, by looking at the first dose vaccine data, we can see how many people are willing to be vaccinated and by looking at the second dose vaccine data, we can see how many people are fully vaccinated."
   ]
  },
  {
   "cell_type": "markdown",
   "id": "c99fe013-a88d-44f6-9d94-ea5f2373668e",
   "metadata": {},
   "source": [
    "# Unknowns and dependencies:"
   ]
  },
  {
   "cell_type": "markdown",
   "id": "159cf775-2392-49c9-85ec-334be92b1c35",
   "metadata": {},
   "source": [
    "The scope of this project might be too large if I plan on analyzing all the relationships I mentioned previously in the alloted time. I also have assignments from other classes, which can take my time away from working on this project."
   ]
  },
  {
   "cell_type": "code",
   "execution_count": null,
   "id": "429ca1e1-bed5-4482-9428-bd42ced2d5f5",
   "metadata": {},
   "outputs": [],
   "source": []
  }
 ],
 "metadata": {
  "kernelspec": {
   "display_name": "Python 3",
   "language": "python",
   "name": "python3"
  },
  "language_info": {
   "codemirror_mode": {
    "name": "ipython",
    "version": 3
   },
   "file_extension": ".py",
   "mimetype": "text/x-python",
   "name": "python",
   "nbconvert_exporter": "python",
   "pygments_lexer": "ipython3",
   "version": "3.8.8"
  }
 },
 "nbformat": 4,
 "nbformat_minor": 5
}
