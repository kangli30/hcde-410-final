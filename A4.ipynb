{
 "cells": [
  {
   "cell_type": "markdown",
   "id": "b7933c5b-f627-4eea-9d15-65414bbb541e",
   "metadata": {},
   "source": [
    "# Motivation and problem statement:\n",
    "One or more paragraphs of text that answers the questions:\n",
    "        Why are you planning to do this analysis? \n",
    "        Why is it potentially interesting and useful, from a scientific, practical, and/or human-centered perspective? \n",
    "        What do you hope to learn? \n",
    "        Note that you only need to describe your overall research goal at this stage; specific hypotheses or research questions aren’t necessary in           the project preliminary proposal.\n",
    "\n",
    "# Data selected for analysis: What dataset do you plan to use, and why? \n",
    " Summarize what is represented in the dataset\n",
    " Link to the dataset (it must be publicly available)\n",
    " Specify license and/or terms of use for the data\n",
    " Explain why this dataset is a suitable one for addressing your research goal listed above\n",
    " Highlight any possible ethical considerations to using this dataset\n",
    "   \n",
    "# Unknowns and dependencies: \n",
    "Are there any factors outside of your control that might impact your ability to complete this project by the end of the quarter? The purpose of this section is to get you thinking, in a practical sense, about your ability to complete this project within the time allotted.\n"
   ]
  },
  {
   "cell_type": "markdown",
   "id": "4d1f18a5-4d6d-423f-aaa4-afcec0b3386c",
   "metadata": {},
   "source": [
    "# Motivation"
   ]
  },
  {
   "cell_type": "markdown",
   "id": "3db7bfd3-873b-4398-97b9-8c1fa0426166",
   "metadata": {},
   "source": []
  },
  {
   "cell_type": "markdown",
   "id": "370e03e1-a12a-409f-8a37-dd6cce67d83c",
   "metadata": {},
   "source": [
    "# Data"
   ]
  },
  {
   "cell_type": "markdown",
   "id": "5d314ae7-44af-4d19-95fd-9fb47c02ddc0",
   "metadata": {},
   "source": []
  },
  {
   "cell_type": "markdown",
   "id": "c99fe013-a88d-44f6-9d94-ea5f2373668e",
   "metadata": {},
   "source": [
    "# Unknowns"
   ]
  },
  {
   "cell_type": "markdown",
   "id": "159cf775-2392-49c9-85ec-334be92b1c35",
   "metadata": {},
   "source": []
  }
 ],
 "metadata": {
  "kernelspec": {
   "display_name": "Python 3",
   "language": "python",
   "name": "python3"
  },
  "language_info": {
   "codemirror_mode": {
    "name": "ipython",
    "version": 3
   },
   "file_extension": ".py",
   "mimetype": "text/x-python",
   "name": "python",
   "nbconvert_exporter": "python",
   "pygments_lexer": "ipython3",
   "version": "3.8.8"
  }
 },
 "nbformat": 4,
 "nbformat_minor": 5
}
