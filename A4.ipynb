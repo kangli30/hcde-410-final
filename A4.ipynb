{
 "cells": [
  {
   "cell_type": "markdown",
   "id": "4d1f18a5-4d6d-423f-aaa4-afcec0b3386c",
   "metadata": {},
   "source": [
    "# Motivation and problem statement:"
   ]
  },
  {
   "cell_type": "markdown",
   "id": "3db7bfd3-873b-4398-97b9-8c1fa0426166",
   "metadata": {},
   "source": [
    "I am planning on analyzing the distrubution of Covid-19 vaccines in the United States. I am doing this analysis because the Covid-19 crisis is very recent and the distribution of vaccines is also recent. By analyzing this data, we can observe how the vaccines are distributed in the US compared to the population of the state. Also, we can observe how many people are taking the vaccines in the state level. It can also be interesting to see if political affiliation has correlation with vaccine administration by generalizing using the most recent voting data. There are many factors we can compare with vaccine distribution data. I hope to learn whether certain states are distributed more vaccines and whether people are more willing to take vaccines in certain states and its correlation with state demographics. Also, we can compare the number of vaccines distributed versus the number of people taking the vaccine to observe the supply and demand of the vaccines with the chosen dataset."
   ]
  },
  {
   "cell_type": "markdown",
   "id": "370e03e1-a12a-409f-8a37-dd6cce67d83c",
   "metadata": {},
   "source": [
    "# Data selected for analysis:"
   ]
  },
  {
   "cell_type": "markdown",
   "id": "5d314ae7-44af-4d19-95fd-9fb47c02ddc0",
   "metadata": {},
   "source": [
    "#### Dataset: \n",
    "Vaccine Data: https://dataverse.harvard.edu/dataset.xhtml?persistentId=doi:10.7910/DVN/SWKERK \n",
    "\n",
    "Population Data: https://worldpopulationreview.com/states \n",
    "\n",
    "I plan to use this dataset from Harvard Dataverse because this dataset has data from the beginning of the rolling out of vaccines up to April 26, 2021, which gives a good range of data as my focus is the early and middle phases of the vaccine distribution. Also, the population data is an estimate from the 2017 US Census, which gives a good estimate of population by state. The vaccine data is public domain and the population data is public data. The vaccine dataset contains data of the total doses administered, allocated, and shipped to the vaccination sites for each state. Also, the there is data for number of first and second doses for different the vaccines. This data is suitable for addressing my reasearch goal above because it contains the data necessary for analysis of people who are willing to be vaccinated and number of people who are fully vaccinated. Also, the population data allows me to find the proportional data. Furthermore, by looking at the first dose vaccine data, we can see how many people are willing to be vaccinated and by looking at the second dose vaccine data, we can see how many people are fully vaccinated."
   ]
  },
  {
   "cell_type": "markdown",
   "id": "c99fe013-a88d-44f6-9d94-ea5f2373668e",
   "metadata": {},
   "source": [
    "# Unknowns and dependencies:"
   ]
  },
  {
   "cell_type": "markdown",
   "id": "159cf775-2392-49c9-85ec-334be92b1c35",
   "metadata": {},
   "source": [
    "The scope of this project might be too large if I plan on analyzing all the relationships I mentioned previously in the alloted time. I also have assignments from other classes, which can take my time away from working on this project."
   ]
  },
  {
   "cell_type": "markdown",
   "id": "01be9bbb-4a88-4274-8a1a-d93ff8b1ec46",
   "metadata": {},
   "source": [
    "# Update on A4:\n",
    "\n",
    "Voting Data: https://dataverse.harvard.edu/dataset.xhtml?persistentId=doi:10.7910/DVN/42MVDX  (Public Domain)\n",
    "\n",
    "*Another Vaccination Data: https://ourworldindata.org/us-states-vaccinations (Open access) (Doses Administered)\n",
    "\n",
    ">Compare voting data with vaccination data.\n",
    "\n",
    "More Background studies and related work below."
   ]
  },
  {
   "cell_type": "markdown",
   "id": "c2787afe-f0c3-4d36-947d-24f9f55b2cd4",
   "metadata": {},
   "source": [
    "# Research Question"
   ]
  },
  {
   "cell_type": "markdown",
   "id": "863c1d0b-df65-4d4d-b3c5-be23fb625c57",
   "metadata": {},
   "source": [
    "How do the number of people willing to vaccinate vary in states that majority votes Democrat versus Republican?"
   ]
  },
  {
   "cell_type": "markdown",
   "id": "460e431b-f579-48c0-b4f2-d9c141248e43",
   "metadata": {},
   "source": [
    "# Background and Related Work"
   ]
  },
  {
   "cell_type": "markdown",
   "id": "7b3650b1-87c1-4506-ac48-58659a64a9eb",
   "metadata": {},
   "source": [
    "News Article: https://www.washingtonpost.com/politics/2021/03/24/is-partisan-divide-getting-vaccine-starting-show-state-numbers/ \n",
    " \n",
    "> Democratic states has higher density of completed vaccinations than Republican states.\n",
    "\n",
    "Research Article: https://journals.plos.org/plosone/article?id=10.1371/journal.pone.0250123 (Open Access)\n",
    "\n",
    "> Democrats are more favorable to vaccination against the flu than Republicans\n",
    "\n",
    "Previous research shows that Democrat voters are more favorable for vaccination than Republican voters. The analysis the news article performed looked at how many people were fully vaccinated. Also they looked at which states are Democratic or Republican but did not explain how they determined that. The news article concluded that Democratic states has higher density of completed vaccinations than Republican states. The analysis the research article performed looked at vaccination attitudes, percieved threat of Covid-19, and trust in broad institutions between Democrats and Republicans. The research article concluded that Democrats percieved the threat of Covid-19 started higher than Republicans and remained stable over time, but Republicans percieved the threat of Covid-19 lower over time.\n",
    "\n",
    "These previous background information primes my expectation of my results. However it is not clear how the news define who is Democrat or Republican. Also, the research article conducted waves of surveys for people in the US, so the sample size might have some participation bias. So, I will use my data to explicitly define a Democratic versus Republican state. Furthermore, even though similar studies has been conducted, my data can yield interesting correlation results by observing people who are willing to vaccinate, which are people who have taken their first dose of the vaccine. "
   ]
  },
  {
   "cell_type": "markdown",
   "id": "fea4f82d-a9e3-4b89-89d9-74cf37822fcb",
   "metadata": {},
   "source": [
    "# Methodology"
   ]
  },
  {
   "cell_type": "markdown",
   "id": "e06dc9c4-8146-47f5-8370-0eab1d10294d",
   "metadata": {},
   "source": [
    "I will conduct my study by observing the raw count in voting data to determine which states are more Democratic or Republican from the voting data. Then, I will look at the number of people willing to vaccinate in each state from the first dose data. To find the proportion of people vaccinated, I will use the population estimate data to find the proportion of people vaccinated. I will focus on looking at the first 3 months since the vaccines were distributed. I intend to look for correlation between political affiliation and proportion of people vaccinated for each state. This analysis of the data is appropriate because the 2020 US presidential election occured during the Covid-19 pandemic, so the 2020 presidential election data is used to determine state political affiliation. Furthermore, the population data is a good estimate for state population in 2021.\n",
    "\n",
    "I plan to present my data as two tables for each political affiliation to list the states in rows. The columns will consist of proportion of people vaccinated in 3 months. This data can be used to create a bar chart for quick analysis to see if there are clear significant differences. Then, I will find the average of the percentage of people vaccinated between the two tables for comparison. This presentation of data is appropriate because my study focuses on the early stages of vaccinations, which the research article above states that there is significant difference in vaccination favorability in the early stages of vaccination. By first comparing the data using bar charts, I can look for significant correlation. Then, comparing the average percentage of people vaccinated between the two political affiliations to confirm the correlation will be appropriate based on my formulation of the data."
   ]
  },
  {
   "cell_type": "code",
   "execution_count": null,
   "id": "71f13859-0765-4742-a56a-25534ce743b9",
   "metadata": {},
   "outputs": [],
   "source": []
  }
 ],
 "metadata": {
  "kernelspec": {
   "display_name": "Python 3",
   "language": "python",
   "name": "python3"
  },
  "language_info": {
   "codemirror_mode": {
    "name": "ipython",
    "version": 3
   },
   "file_extension": ".py",
   "mimetype": "text/x-python",
   "name": "python",
   "nbconvert_exporter": "python",
   "pygments_lexer": "ipython3",
   "version": "3.8.8"
  }
 },
 "nbformat": 4,
 "nbformat_minor": 5
}
